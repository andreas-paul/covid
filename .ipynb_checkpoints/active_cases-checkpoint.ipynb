{
 "cells": [
  {
   "cell_type": "code",
   "execution_count": 1,
   "metadata": {},
   "outputs": [],
   "source": [
    "import datetime\n",
    "import pandas as pd\n",
    "import numpy as np\n",
    "\n",
    "import matplotlib.pyplot as plt\n",
    "\n",
    "import ipywidgets as widgets\n",
    "from ipywidgets import interact, interact_manual, fixed"
   ]
  },
  {
   "cell_type": "code",
   "execution_count": 2,
   "metadata": {},
   "outputs": [],
   "source": [
    "def loadData():\n",
    "    cases = pd.read_csv('http://www.dkriesel.com/_media/corona-cases.csv', sep='\\t')\n",
    "    recoveries = pd.read_csv('http://www.dkriesel.com/_media/corona-recoveries.csv',sep='\\t')\n",
    "    deaths = pd.read_csv('http://www.dkriesel.com/_media/corona-deaths.csv', sep='\\t')\n",
    "    return cases, recoveries, deaths"
   ]
  },
  {
   "cell_type": "code",
   "execution_count": 3,
   "metadata": {},
   "outputs": [],
   "source": [
    "def wrangleData(country, month, cases, recoveries, deaths):    \n",
    "    uae_d = deaths[['Date', country]]\n",
    "    uae_c = cases[['Date', country]]\n",
    "    uae_r = recoveries[['Date', country]]\n",
    "    uae_d.columns = ['Date_d', 'deaths']\n",
    "    uae_c.columns = ['Date_c', 'cases']\n",
    "    uae_r.columns = ['Date_r', 'recoveries']\n",
    "    data = [uae_c, uae_d, uae_r]\n",
    "    df = pd.concat(data, axis=1)\n",
    "    df.drop(['Date_d', 'Date_r'], axis=1, inplace=True)   \n",
    "    df.rename(columns={'Date_c': 'date'})          \n",
    "    df['Date_c'] = pd.to_datetime(df['Date_c'], format='%Y-%m-%d %H:%M:%S.%f')\n",
    "    df.set_index('Date_c', inplace=True)    \n",
    "    df = df.loc[datetime.date(year=2020,month=month,day=1):]\n",
    "    df['active'] = df['cases'] - (df['deaths'] + df['recoveries'])\n",
    "    df['change_active'] = df['active'].pct_change()\n",
    "    df['change_active'] = df['change_active'] * 100\n",
    "    df['change_cases'] = df['cases'].pct_change()\n",
    "    df['change_cases'] = df['change_cases'] * 100    \n",
    "    df[df['change_cases'] == np.inf] = np.nan\n",
    "\n",
    "    fig, ax = plt.subplots(figsize=(13,8))\n",
    "    plt.xticks(rotation=70)\n",
    "    ax.plot(df['change_active'], label='Change active cases', color='darkblue', linewidth=1)\n",
    "    ax.plot(df['change_cases'], label='Change total cases', color='orange', linewidth=0.5)\n",
    "    #     ax.set_xlim([datetime.date(2020, 4, 1), datetime.date(2020, 4, 28)])\n",
    "    bottom = np.nanmin(df['change_active']) - 5\n",
    "    top = np.nanmax(df['change_active']) + 5\n",
    "    ax.set_ylim(bottom=bottom,top=top)\n",
    "    ax.set_title(f'Daily change in active cases of COVID-19 ({country})', fontsize=14)\n",
    "    ax.legend()\n",
    "    ax.grid(color='grey', linestyle='--', linewidth=0.5)\n",
    "    ax.axhline(0, color='black', lw=1)\n",
    "    plt.show()"
   ]
  },
  {
   "cell_type": "code",
   "execution_count": 4,
   "metadata": {},
   "outputs": [
    {
     "name": "stdout",
     "output_type": "stream",
     "text": [
      "Data downloaded succesfully at 2020-06-30 18:10:42.006820 o'clock\n"
     ]
    }
   ],
   "source": [
    "cases, recoveries, deaths = loadData()\n",
    "print(f\"Data downloaded succesfully at {datetime.datetime.now()} o'clock\")"
   ]
  },
  {
   "cell_type": "code",
   "execution_count": 5,
   "metadata": {},
   "outputs": [
    {
     "data": {
      "application/vnd.jupyter.widget-view+json": {
       "model_id": "0caab5c2e4334aa5bcc00cf5c08af097",
       "version_major": 2,
       "version_minor": 0
      },
      "text/plain": [
       "interactive(children=(Dropdown(description='country', options=('Germany', 'United Arab Emirates', 'Sweden', 'N…"
      ]
     },
     "metadata": {},
     "output_type": "display_data"
    },
    {
     "data": {
      "text/plain": [
       "<function __main__.wrangleData(country, month, cases, recoveries, deaths)>"
      ]
     },
     "execution_count": 5,
     "metadata": {},
     "output_type": "execute_result"
    }
   ],
   "source": [
    "interact(wrangleData, country=['Germany','United Arab Emirates', 'Sweden', 'Netherlands', 'Japan', 'Denmark', 'Brazil', 'Spain', 'Korea, South', 'Taiwan*'], month=[6,5,4,3,2,1], cases=fixed(cases), recoveries=fixed(recoveries), deaths=fixed(deaths))"
   ]
  },
  {
   "cell_type": "code",
   "execution_count": null,
   "metadata": {},
   "outputs": [],
   "source": []
  }
 ],
 "metadata": {
  "kernelspec": {
   "display_name": "Python 3",
   "language": "python",
   "name": "python3"
  },
  "language_info": {
   "codemirror_mode": {
    "name": "ipython",
    "version": 3
   },
   "file_extension": ".py",
   "mimetype": "text/x-python",
   "name": "python",
   "nbconvert_exporter": "python",
   "pygments_lexer": "ipython3",
   "version": "3.8.3"
  }
 },
 "nbformat": 4,
 "nbformat_minor": 4
}
